{
 "cells": [
  {
   "cell_type": "code",
   "execution_count": 1,
   "metadata": {},
   "outputs": [],
   "source": [
    "import pandas as pd\n",
    "from sklearn.ensemble import RandomForestClassifier\n",
    "\n",
    "trainData = pd.read_csv('preProcessedTrain.csv')\n",
    "\n",
    "trainData.drop(trainData.columns[0], axis=1, inplace=True)\n",
    "\n",
    "X_full = trainData.drop('Group_no', axis=1)\n",
    "y_full = trainData['Group_no']\n",
    "\n",
    "rf_model = RandomForestClassifier()\n",
    "rf_model.fit(X_full, y_full)\n",
    "\n",
    "testData = pd.read_csv('preProcessedTest.csv')\n",
    "\n",
    "testData.drop(testData.columns[0], axis=1, inplace=True)\n",
    "\n",
    "testData.drop('Group_no', axis=1, inplace=True)\n",
    "\n",
    "missing_columns = set(X_full.columns) - set(testData.columns)\n",
    "for column in missing_columns:\n",
    "    print(\"MISSING Value:\", column)\n",
    "    testData[column] = 0\n",
    "\n",
    "predictions = rf_model.predict(testData)\n",
    "\n",
    "submission_df = pd.DataFrame({'serial_number': range(1, len(predictions) + 1), 'group_no': predictions})\n",
    "\n",
    "submission_df.to_csv('submission.csv', index=False)"
   ]
  }
 ],
 "metadata": {
  "kernelspec": {
   "display_name": "base",
   "language": "python",
   "name": "python3"
  },
  "language_info": {
   "codemirror_mode": {
    "name": "ipython",
    "version": 3
   },
   "file_extension": ".py",
   "mimetype": "text/x-python",
   "name": "python",
   "nbconvert_exporter": "python",
   "pygments_lexer": "ipython3",
   "version": "3.9.13"
  }
 },
 "nbformat": 4,
 "nbformat_minor": 2
}
