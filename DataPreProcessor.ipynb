{
 "cells": [
  {
   "cell_type": "code",
   "execution_count": 24,
   "metadata": {},
   "outputs": [],
   "source": [
    "import pandas as pd\n",
    "from sklearn.preprocessing import OneHotEncoder"
   ]
  },
  {
   "cell_type": "code",
   "execution_count": 25,
   "metadata": {},
   "outputs": [],
   "source": [
    "\n",
    "def loadAndPreProcess(csvFilePath):\n",
    "    dataFrame = pd.read_csv(csvFilePath)\n",
    "    \n",
    "    # Drop 'sno' column\n",
    "    dataFrame.drop('sno', axis=1, inplace=True)\n",
    "\n",
    "    # Identify columns starting with 'A'\n",
    "    a_columns = [col for col in dataFrame.columns if str(dataFrame[col][0]).startswith('A')]\n",
    "\n",
    "    # One-hot encode 'poi' column\n",
    "    encoder_poi = OneHotEncoder(drop='first', sparse=False)\n",
    "    encoded_poi = encoder_poi.fit_transform(dataFrame[['poi']])\n",
    "    encoded_poi_df = pd.DataFrame(encoded_poi, columns=encoder_poi.get_feature_names(['poi']), index=dataFrame.index)\n",
    "    dataFrame.drop('poi', axis=1, inplace=True)\n",
    "    dataFrame = pd.concat([dataFrame, encoded_poi_df], axis=1)\n",
    "\n",
    "    # One-hot encode 'A' columns\n",
    "    encoder_a = OneHotEncoder(drop='first', sparse=False)\n",
    "    encoded_a = encoder_a.fit_transform(dataFrame[a_columns])\n",
    "    encoded_a_df = pd.DataFrame(encoded_a, columns=encoder_a.get_feature_names(a_columns), index=dataFrame.index)\n",
    "    dataFrame.drop(a_columns, axis=1, inplace=True)\n",
    "    dataFrame = pd.concat([dataFrame, encoded_a_df], axis=1)\n",
    "\n",
    "    # Find average age value and fill missing values\n",
    "    avg_age = dataFrame['age'].mean()\n",
    "    dataFrame['age'].fillna(avg_age, inplace=True)\n",
    "\n",
    "    return dataFrame\n"
   ]
  },
  {
   "cell_type": "code",
   "execution_count": 26,
   "metadata": {},
   "outputs": [
    {
     "name": "stderr",
     "output_type": "stream",
     "text": [
      "d:\\DataScience\\conda\\lib\\site-packages\\sklearn\\utils\\deprecation.py:87: FutureWarning: Function get_feature_names is deprecated; get_feature_names is deprecated in 1.0 and will be removed in 1.2. Please use get_feature_names_out instead.\n",
      "  warnings.warn(msg, category=FutureWarning)\n",
      "d:\\DataScience\\conda\\lib\\site-packages\\sklearn\\utils\\deprecation.py:87: FutureWarning: Function get_feature_names is deprecated; get_feature_names is deprecated in 1.0 and will be removed in 1.2. Please use get_feature_names_out instead.\n",
      "  warnings.warn(msg, category=FutureWarning)\n"
     ]
    }
   ],
   "source": [
    "trainData = loadAndPreProcess(\"data/train.csv\")"
   ]
  },
  {
   "cell_type": "code",
   "execution_count": 27,
   "metadata": {},
   "outputs": [
    {
     "name": "stdout",
     "output_type": "stream",
     "text": [
      "<class 'pandas.core.frame.DataFrame'>\n",
      "RangeIndex: 800 entries, 0 to 799\n",
      "Data columns (total 54 columns):\n",
      " #   Column                 Non-Null Count  Dtype  \n",
      "---  ------                 --------------  -----  \n",
      " 0   duration_month         800 non-null    int64  \n",
      " 1   resident_since         800 non-null    int64  \n",
      " 2   age                    800 non-null    float64\n",
      " 3   credits_no             800 non-null    int64  \n",
      " 4   liables                800 non-null    int64  \n",
      " 5   Group_no               800 non-null    int64  \n",
      " 6   poi_2.0                800 non-null    float64\n",
      " 7   poi_3.0                800 non-null    float64\n",
      " 8   poi_4.0                800 non-null    float64\n",
      " 9   poi_nan                800 non-null    float64\n",
      " 10  acc_info_A12           800 non-null    float64\n",
      " 11  acc_info_A13           800 non-null    float64\n",
      " 12  acc_info_A14           800 non-null    float64\n",
      " 13  credit_history_A31     800 non-null    float64\n",
      " 14  credit_history_A32     800 non-null    float64\n",
      " 15  credit_history_A33     800 non-null    float64\n",
      " 16  credit_history_A34     800 non-null    float64\n",
      " 17  purpose_A41            800 non-null    float64\n",
      " 18  purpose_A410           800 non-null    float64\n",
      " 19  purpose_A42            800 non-null    float64\n",
      " 20  purpose_A43            800 non-null    float64\n",
      " 21  purpose_A44            800 non-null    float64\n",
      " 22  purpose_A45            800 non-null    float64\n",
      " 23  purpose_A46            800 non-null    float64\n",
      " 24  purpose_A48            800 non-null    float64\n",
      " 25  purpose_A49            800 non-null    float64\n",
      " 26  savings_acc_A62        800 non-null    float64\n",
      " 27  savings_acc_A63        800 non-null    float64\n",
      " 28  savings_acc_A64        800 non-null    float64\n",
      " 29  savings_acc_A65        800 non-null    float64\n",
      " 30  employment_st_A72      800 non-null    float64\n",
      " 31  employment_st_A73      800 non-null    float64\n",
      " 32  employment_st_A74      800 non-null    float64\n",
      " 33  employment_st_A75      800 non-null    float64\n",
      " 34  employment_st_nan      800 non-null    float64\n",
      " 35  personal_status_A92    800 non-null    float64\n",
      " 36  personal_status_A93    800 non-null    float64\n",
      " 37  personal_status_A94    800 non-null    float64\n",
      " 38  gurantors_A102         800 non-null    float64\n",
      " 39  gurantors_A103         800 non-null    float64\n",
      " 40  gurantors_nan          800 non-null    float64\n",
      " 41  property_type_A122     800 non-null    float64\n",
      " 42  property_type_A123     800 non-null    float64\n",
      " 43  property_type_A124     800 non-null    float64\n",
      " 44  installment_type_A142  800 non-null    float64\n",
      " 45  installment_type_A143  800 non-null    float64\n",
      " 46  housing_type_A152      800 non-null    float64\n",
      " 47  housing_type_A153      800 non-null    float64\n",
      " 48  housing_type_nan       800 non-null    float64\n",
      " 49  job_type_A172          800 non-null    float64\n",
      " 50  job_type_A173          800 non-null    float64\n",
      " 51  job_type_A174          800 non-null    float64\n",
      " 52  telephone_A192         800 non-null    float64\n",
      " 53  foreigner_A202         800 non-null    float64\n",
      "dtypes: float64(49), int64(5)\n",
      "memory usage: 337.6 KB\n"
     ]
    }
   ],
   "source": [
    "trainData.info()"
   ]
  },
  {
   "cell_type": "code",
   "execution_count": 28,
   "metadata": {},
   "outputs": [],
   "source": [
    "trainData.to_csv(\"preProcessedTrain.csv\")"
   ]
  },
  {
   "cell_type": "code",
   "execution_count": 29,
   "metadata": {},
   "outputs": [
    {
     "name": "stderr",
     "output_type": "stream",
     "text": [
      "d:\\DataScience\\conda\\lib\\site-packages\\sklearn\\utils\\deprecation.py:87: FutureWarning: Function get_feature_names is deprecated; get_feature_names is deprecated in 1.0 and will be removed in 1.2. Please use get_feature_names_out instead.\n",
      "  warnings.warn(msg, category=FutureWarning)\n",
      "d:\\DataScience\\conda\\lib\\site-packages\\sklearn\\utils\\deprecation.py:87: FutureWarning: Function get_feature_names is deprecated; get_feature_names is deprecated in 1.0 and will be removed in 1.2. Please use get_feature_names_out instead.\n",
      "  warnings.warn(msg, category=FutureWarning)\n"
     ]
    }
   ],
   "source": [
    "testData = loadAndPreProcess(\"data/test.csv\")"
   ]
  },
  {
   "cell_type": "code",
   "execution_count": 30,
   "metadata": {},
   "outputs": [],
   "source": [
    "testData.insert(39, 'gurantors_nan', 0)"
   ]
  },
  {
   "cell_type": "code",
   "execution_count": 31,
   "metadata": {},
   "outputs": [
    {
     "name": "stdout",
     "output_type": "stream",
     "text": [
      "<class 'pandas.core.frame.DataFrame'>\n",
      "RangeIndex: 200 entries, 0 to 199\n",
      "Data columns (total 53 columns):\n",
      " #   Column                 Non-Null Count  Dtype  \n",
      "---  ------                 --------------  -----  \n",
      " 0   duration_month         200 non-null    int64  \n",
      " 1   resident_since         200 non-null    int64  \n",
      " 2   age                    200 non-null    float64\n",
      " 3   credits_no             200 non-null    int64  \n",
      " 4   liables                200 non-null    int64  \n",
      " 5   poi_2.0                200 non-null    float64\n",
      " 6   poi_3.0                200 non-null    float64\n",
      " 7   poi_4.0                200 non-null    float64\n",
      " 8   poi_nan                200 non-null    float64\n",
      " 9   acc_info_A12           200 non-null    float64\n",
      " 10  acc_info_A13           200 non-null    float64\n",
      " 11  acc_info_A14           200 non-null    float64\n",
      " 12  credit_history_A31     200 non-null    float64\n",
      " 13  credit_history_A32     200 non-null    float64\n",
      " 14  credit_history_A33     200 non-null    float64\n",
      " 15  credit_history_A34     200 non-null    float64\n",
      " 16  purpose_A41            200 non-null    float64\n",
      " 17  purpose_A410           200 non-null    float64\n",
      " 18  purpose_A42            200 non-null    float64\n",
      " 19  purpose_A43            200 non-null    float64\n",
      " 20  purpose_A44            200 non-null    float64\n",
      " 21  purpose_A45            200 non-null    float64\n",
      " 22  purpose_A46            200 non-null    float64\n",
      " 23  purpose_A48            200 non-null    float64\n",
      " 24  purpose_A49            200 non-null    float64\n",
      " 25  savings_acc_A62        200 non-null    float64\n",
      " 26  savings_acc_A63        200 non-null    float64\n",
      " 27  savings_acc_A64        200 non-null    float64\n",
      " 28  savings_acc_A65        200 non-null    float64\n",
      " 29  employment_st_A72      200 non-null    float64\n",
      " 30  employment_st_A73      200 non-null    float64\n",
      " 31  employment_st_A74      200 non-null    float64\n",
      " 32  employment_st_A75      200 non-null    float64\n",
      " 33  employment_st_nan      200 non-null    float64\n",
      " 34  personal_status_A92    200 non-null    float64\n",
      " 35  personal_status_A93    200 non-null    float64\n",
      " 36  personal_status_A94    200 non-null    float64\n",
      " 37  gurantors_A102         200 non-null    float64\n",
      " 38  gurantors_A103         200 non-null    float64\n",
      " 39  gurantors_nan          200 non-null    int64  \n",
      " 40  property_type_A122     200 non-null    float64\n",
      " 41  property_type_A123     200 non-null    float64\n",
      " 42  property_type_A124     200 non-null    float64\n",
      " 43  installment_type_A142  200 non-null    float64\n",
      " 44  installment_type_A143  200 non-null    float64\n",
      " 45  housing_type_A152      200 non-null    float64\n",
      " 46  housing_type_A153      200 non-null    float64\n",
      " 47  housing_type_nan       200 non-null    float64\n",
      " 48  job_type_A172          200 non-null    float64\n",
      " 49  job_type_A173          200 non-null    float64\n",
      " 50  job_type_A174          200 non-null    float64\n",
      " 51  telephone_A192         200 non-null    float64\n",
      " 52  foreigner_A202         200 non-null    float64\n",
      "dtypes: float64(48), int64(5)\n",
      "memory usage: 82.9 KB\n"
     ]
    }
   ],
   "source": [
    "testData.info()"
   ]
  },
  {
   "cell_type": "code",
   "execution_count": 32,
   "metadata": {},
   "outputs": [],
   "source": [
    "testClmns = list(testData.columns)\n",
    "trainClmns = list(trainData.columns)"
   ]
  },
  {
   "cell_type": "code",
   "execution_count": 33,
   "metadata": {},
   "outputs": [
    {
     "data": {
      "text/plain": [
       "['duration_month',\n",
       " 'resident_since',\n",
       " 'age',\n",
       " 'credits_no',\n",
       " 'liables',\n",
       " 'poi_2.0',\n",
       " 'poi_3.0',\n",
       " 'poi_4.0',\n",
       " 'poi_nan',\n",
       " 'acc_info_A12',\n",
       " 'acc_info_A13',\n",
       " 'acc_info_A14',\n",
       " 'credit_history_A31',\n",
       " 'credit_history_A32',\n",
       " 'credit_history_A33',\n",
       " 'credit_history_A34',\n",
       " 'purpose_A41',\n",
       " 'purpose_A410',\n",
       " 'purpose_A42',\n",
       " 'purpose_A43',\n",
       " 'purpose_A44',\n",
       " 'purpose_A45',\n",
       " 'purpose_A46',\n",
       " 'purpose_A48',\n",
       " 'purpose_A49',\n",
       " 'savings_acc_A62',\n",
       " 'savings_acc_A63',\n",
       " 'savings_acc_A64',\n",
       " 'savings_acc_A65',\n",
       " 'employment_st_A72',\n",
       " 'employment_st_A73',\n",
       " 'employment_st_A74',\n",
       " 'employment_st_A75',\n",
       " 'employment_st_nan',\n",
       " 'personal_status_A92',\n",
       " 'personal_status_A93',\n",
       " 'personal_status_A94',\n",
       " 'gurantors_A102',\n",
       " 'gurantors_A103',\n",
       " 'gurantors_nan',\n",
       " 'property_type_A122',\n",
       " 'property_type_A123',\n",
       " 'property_type_A124',\n",
       " 'installment_type_A142',\n",
       " 'installment_type_A143',\n",
       " 'housing_type_A152',\n",
       " 'housing_type_A153',\n",
       " 'housing_type_nan',\n",
       " 'job_type_A172',\n",
       " 'job_type_A173',\n",
       " 'job_type_A174',\n",
       " 'telephone_A192',\n",
       " 'foreigner_A202']"
      ]
     },
     "execution_count": 33,
     "metadata": {},
     "output_type": "execute_result"
    }
   ],
   "source": [
    "testClmns"
   ]
  },
  {
   "cell_type": "code",
   "execution_count": 34,
   "metadata": {},
   "outputs": [
    {
     "data": {
      "text/plain": [
       "False"
      ]
     },
     "execution_count": 34,
     "metadata": {},
     "output_type": "execute_result"
    }
   ],
   "source": [
    "testClmns == trainClmns"
   ]
  },
  {
   "cell_type": "code",
   "execution_count": 35,
   "metadata": {},
   "outputs": [],
   "source": [
    "trainClmns.remove('Group_no')"
   ]
  },
  {
   "cell_type": "code",
   "execution_count": 36,
   "metadata": {},
   "outputs": [
    {
     "name": "stdout",
     "output_type": "stream",
     "text": [
      "Both lists have the same order of columns.\n"
     ]
    }
   ],
   "source": [
    "mismatched_columns = [col for col in testClmns if col not in trainClmns]\n",
    "\n",
    "if mismatched_columns:\n",
    "    print(\"Mismatched columns:\", mismatched_columns)\n",
    "else:\n",
    "    print(\"Both lists have the same order of columns.\")"
   ]
  },
  {
   "cell_type": "code",
   "execution_count": 37,
   "metadata": {},
   "outputs": [],
   "source": [
    "trainData.to_csv(\"preProcessedTest.csv\")"
   ]
  }
 ],
 "metadata": {
  "kernelspec": {
   "display_name": "tensorflow",
   "language": "python",
   "name": "python3"
  },
  "language_info": {
   "codemirror_mode": {
    "name": "ipython",
    "version": 3
   },
   "file_extension": ".py",
   "mimetype": "text/x-python",
   "name": "python",
   "nbconvert_exporter": "python",
   "pygments_lexer": "ipython3",
   "version": "3.9.13"
  }
 },
 "nbformat": 4,
 "nbformat_minor": 2
}
